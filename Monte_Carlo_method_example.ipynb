{
 "cells": [
  {
   "cell_type": "code",
   "execution_count": 42,
   "metadata": {},
   "outputs": [
    {
     "name": "stdout",
     "output_type": "stream",
     "text": [
      "Percentage of failed piston assemblies:  11.7246 %\n",
      "confidence interval( 0.49994741920148994 0.49994773121700825 )\n"
     ]
    }
   ],
   "source": [
    "import numpy as np\n",
    "\n",
    "n = 1000000\n",
    "\n",
    "dp = 22.5       # piston diameter\n",
    "tol_dp = 0.03   # piston diameter tolerance\n",
    "do = 3          # o ring diameter\n",
    "tol_do = 0.09   # o ring diameter tolerance\n",
    "dc = 25         # cylinder diameter\n",
    "tol_dc = 0.1    # cylinder diameter tolerance\n",
    "\n",
    "\n",
    "def calculateInterference(dp, do, dc):\n",
    "\n",
    "    interference = dp + do - dc\n",
    "    return interference\n",
    "\n",
    "def checkInterference(interference, lower, upper):\n",
    "    \n",
    "    if interference < lower or interference > upper:\n",
    "        return False\n",
    "    else:\n",
    "        return True\n",
    "\n",
    "lower = 0.3 \n",
    "upper = 0.6 \n",
    "      \n",
    "interference_list = []\n",
    "results = []            \n",
    "\n",
    "for trial in range(n):\n",
    "    \n",
    "    piston_sample_diameter = np.random.uniform(dp-tol_dp,dp+tol_dp)\n",
    "    oring_sample_diameter = np.random.uniform(do-tol_do,do+tol_do)\n",
    "    cylinder_sample_diameter = np.random.uniform(dc-tol_dc,dc+tol_dc)\n",
    "    \n",
    "    interference = calculateInterference(piston_sample_diameter, oring_sample_diameter, cylinder_sample_diameter)\n",
    "    interference_list.append(interference)\n",
    "    \n",
    "    results.append(checkInterference(interference, lower, upper))\n",
    "\n",
    "\n",
    "Accepted_value = sum(results)\n",
    "failurePercentage =  100*((n-Accepted_value) / n)\n",
    "avg_interference=(sum(interference_list))/n\n",
    "a=[]\n",
    "for i in interference_list:\n",
    "    k=(i-avg_interference)**2\n",
    "    a.append(k)\n",
    "sigma=np.sqrt((sum(a))/n)\n",
    "\n",
    "b=avg_interference-1.96*(sigma/n)\n",
    "c=avg_interference+1.96*(sigma/n)\n",
    "\n",
    "print('Percentage of failed piston assemblies: ', failurePercentage, \"%\")\n",
    "print(\"confidence interval(\", b, c,\")\")    "
   ]
  }
 ],
 "metadata": {
  "kernelspec": {
   "display_name": "Python 3 (ipykernel)",
   "language": "python",
   "name": "python3"
  },
  "language_info": {
   "codemirror_mode": {
    "name": "ipython",
    "version": 3
   },
   "file_extension": ".py",
   "mimetype": "text/x-python",
   "name": "python",
   "nbconvert_exporter": "python",
   "pygments_lexer": "ipython3",
   "version": "3.9.7"
  }
 },
 "nbformat": 4,
 "nbformat_minor": 4
}
