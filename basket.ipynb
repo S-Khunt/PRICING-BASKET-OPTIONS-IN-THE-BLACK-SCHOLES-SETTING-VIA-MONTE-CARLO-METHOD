{
 "cells": [
  {
   "cell_type": "code",
   "execution_count": 1,
   "metadata": {},
   "outputs": [
    {
     "name": "stdout",
     "output_type": "stream",
     "text": [
      "\n",
      "Basket option price in the Black Schole Model\n",
      "\n",
      "Option price: 24.7160 \n",
      "\n",
      "CI_Low=24.4338 , CI_Up=24.9982\n"
     ]
    },
    {
     "data": {
      "image/png": "[encoded data removed]",
      "text/plain": [
       "<Figure size 432x288 with 1 Axes>"
      ]
     },
     "metadata": {
      "needs_background": "light"
     },
     "output_type": "display_data"
    }
   ],
   "source": [
    "import numpy as np\n",
    "import numpy.matlib\n",
    "import matplotlib.pyplot as plt\n",
    "\n",
    "\n",
    "# Parameter set\n",
    "S0_ = 100\n",
    "K_ = 100\n",
    "T_ = 3\n",
    "r_ = 0.05\n",
    "sig1_= 0.3\n",
    "sig2_ = 0.3\n",
    "rho_ = 0.5\n",
    "step_ = 500\n",
    "MCrun_ = 10e4\n",
    "\n",
    "\n",
    "S0         = np.float32(S0_)  # Initial stock price\n",
    "K          = np.float32(K_)  # Strike price\n",
    "T          = np.float32(T_)  # Option maturity in years\n",
    "r          = np.float32(r_)  # Interest rate\n",
    "sig1       = np.float32(sig1_) # Stock volatility\n",
    "sig2       = np.float32(sig2_) # Stock volatility\n",
    "rho        = np.float32(rho_) # Correlation coefficient\n",
    "  \n",
    "MCrun = np.int64(MCrun_) \n",
    "step = np.int64(step_)     \n",
    "\n",
    " # -------------------------------------------\n",
    " # Initialization \n",
    " # ------------------------------------------- \n",
    "    \n",
    "dt = np.float32( T / np.float32(step) )                                 \n",
    "\n",
    "St1   = np.zeros((MCrun,step+1), dtype=np.float32)   # generate paths for stock 1\n",
    "St2   = np.zeros((MCrun,step+1), dtype=np.float32)   # generate paths for stock 2\n",
    " \n",
    "# initialize at time 0\n",
    " \n",
    "St1[:,0]  = S0\n",
    "St2[:,0]  = S0\n",
    "\n",
    " \n",
    "# Generate random numbers\n",
    " \n",
    "R1 = np.float32(np.random.randn(MCrun, step))\n",
    "R2 = np.float32(np.random.randn(MCrun, step))\n",
    "\n",
    "Zero = np.zeros((MCrun), dtype=np.float32)\n",
    "\n",
    "for j in range(0,step):\n",
    "        \n",
    "       Rcor = rho*R1[:,j] + np.sqrt(1-rho**2)*R2[:,j]\n",
    "       \n",
    "       dW2 = np.sqrt(dt)*Rcor # correlated Brownian increments\n",
    "       dW1 = np.sqrt(dt)*R1[:,j]\n",
    "        \n",
    "       \n",
    "       St1[:,j+1] = St1[:,j]*np.exp((r-0.5*sig1**2)*dt+sig1*dW1)\n",
    "       St2[:,j+1] = St2[:,j]*np.exp((r-0.5*sig2**2)*dt+sig2*dW2)\n",
    "       \n",
    "\n",
    "#Basket option price in the BS-model\n",
    "\n",
    "ave = 0.5 * (St1[:,j+1] + St2[:,j+1])\n",
    "\n",
    "#print(ave)\n",
    "\n",
    "Payoff = np.fmax(ave - K, Zero)\n",
    "\n",
    "#print(Payoff)\n",
    " \n",
    "OP = np.mean(np.exp(-r*T)*Payoff) # option price\n",
    " \n",
    "stdB = np.std(Payoff)\n",
    " \n",
    "Low = (OP - 1.96*stdB/np.sqrt(MCrun))\n",
    "Up  = (OP + 1.96*stdB/np.sqrt(MCrun))  \n",
    "        \n",
    "  \n",
    "print('\\n' \"Basket option price in the Black Schole Model\" '\\n')\n",
    "\n",
    "\n",
    "print('Option price: {:.4f}'.format(OP), '\\n')\n",
    "\n",
    "\n",
    "print(\"CI_Low={:.4f} , CI_Up={:.4f}\".format(Low,Up))\n",
    "\n",
    "\n",
    "t = np.linspace(0,3, num=step+1)\n",
    "plt.plot(t, St1[1,:].T, linewidth=2, label=\"St1\")\n",
    "plt.plot(t, St2[1,:].T, linewidth=2, label=\"St2\")\n",
    "plt.legend(loc=\"upper left\")   \n",
    "plt.title('Sample of two correlated stock price paths')         \n",
    "plt.show()   "
   ]
  },
  {
   "cell_type": "code",
   "execution_count": null,
   "metadata": {},
   "outputs": [],
   "source": []
  },
  {
   "cell_type": "code",
   "execution_count": null,
   "metadata": {},
   "outputs": [],
   "source": []
  },
  {
   "cell_type": "code",
   "execution_count": null,
   "metadata": {},
   "outputs": [],
   "source": []
  },
  {
   "cell_type": "code",
   "execution_count": null,
   "metadata": {},
   "outputs": [],
   "source": []
  }
 ],
 "metadata": {
  "anaconda-cloud": {},
  "kernelspec": {
   "display_name": "Python 3 (ipykernel)",
   "language": "python",
   "name": "python3"
  },
  "language_info": {
   "codemirror_mode": {
    "name": "ipython",
    "version": 3
   },
   "file_extension": ".py",
   "mimetype": "text/x-python",
   "name": "python",
   "nbconvert_exporter": "python",
   "pygments_lexer": "ipython3",
   "version": "3.9.7"
  }
 },
 "nbformat": 4,
 "nbformat_minor": 4
}
