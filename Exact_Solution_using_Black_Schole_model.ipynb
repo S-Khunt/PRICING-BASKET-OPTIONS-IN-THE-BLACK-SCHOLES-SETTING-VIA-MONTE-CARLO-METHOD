{
 "cells": [
  {
   "cell_type": "code",
   "execution_count": 1,
   "metadata": {},
   "outputs": [
    {
     "name": "stdout",
     "output_type": "stream",
     "text": [
      "\n",
      "Using Black-Scholes formula for option pricing\n",
      "\n",
      "European call price: 9.1060 \n",
      "\n",
      "European put price: 0.4991\n"
     ]
    }
   ],
   "source": [
    "import numpy as np\n",
    "from scipy.stats import norm\n",
    "def BSformula(S0_, r_, sigma_, K_, T_, opt):\n",
    "    \n",
    "    S0         = np.float32(S0_)  # Initial stock price\n",
    "    K          = np.float32(K_)  # Strike price\n",
    "    T          = np.float32(T_)  # Option maturity in years\n",
    "    r          = np.float32(r_)  # Interest rate\n",
    "    sigma      = np.float32(sigma_) # Stock volatility\n",
    "    \n",
    "    # opt = 1 for \"Call option\" else \"Put Option\"\n",
    "    \n",
    "    d1 = (np.log(S0/K) + (r + 0.5*sigma**2)*T) / (sigma * np.sqrt(T))\n",
    " \n",
    "    d2 = d1 - sigma * np.sqrt(T)\n",
    " \n",
    "    Call = S0 * norm.cdf(d1) - K * np.exp(-r*T) * norm.cdf(d2)\n",
    "        \n",
    "    Put = K * np.exp(-r*T) * norm.cdf(-d2) - S0 * norm.cdf(-d1)\n",
    "          \n",
    "    return Call if opt==1 else Put\n",
    "\n",
    "\n",
    "BScall = BSformula(100, 0.09, 0.08, 100, 1, 1)\n",
    "BSput = BSformula(100, 0.09, 0.08, 100, 1, 0)\n",
    "print('\\n' \"Using Black-Scholes formula for option pricing\" '\\n')\n",
    "print('European call price: {:.4f}'.format(BScall), '\\n')\n",
    "print('European put price: {:.4f}'.format(BSput))"
   ]
  },
  {
   "cell_type": "code",
   "execution_count": null,
   "metadata": {},
   "outputs": [],
   "source": []
  }
 ],
 "metadata": {
  "kernelspec": {
   "display_name": "Python 3 (ipykernel)",
   "language": "python",
   "name": "python3"
  },
  "language_info": {
   "codemirror_mode": {
    "name": "ipython",
    "version": 3
   },
   "file_extension": ".py",
   "mimetype": "text/x-python",
   "name": "python",
   "nbconvert_exporter": "python",
   "pygments_lexer": "ipython3",
   "version": "3.9.7"
  }
 },
 "nbformat": 4,
 "nbformat_minor": 2
}
